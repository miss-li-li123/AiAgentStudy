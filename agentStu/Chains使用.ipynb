{
 "cells": [
  {
   "cell_type": "code",
   "execution_count": 2,
   "metadata": {},
   "outputs": [],
   "source": [
    "import os\n",
    "import os\n",
    "from dotenv import load_dotenv\n",
    "# Load environment variables from openai.env file\n",
    "load_dotenv(\"deepseek.env\")\n",
    "\n",
    "# Read the OPENAI_API_KEY from the environment\n",
    "api_key = os.getenv(\"DEEPSEEK_API_KEY\")\n",
    "api_base = os.getenv(\"DEEPSEEK_API_BASE\")\n",
    "os.environ[\"OPENAI_API_KEY\"] = api_key\n",
    "os.environ[\"OPENAI_API_BASE\"] = api_base\n",
    "# 为 DeepSeek 配置（可选）\n",
    "DEEPSEEK_CONFIG = {\n",
    "    #\"model\": \"gpt-3.5-turbo\",  # 或者使用 DeepSeek 兼容模型\n",
    "    #\"openai_api_key\": os.environ[\"OPENAI_API_KEY\"],\n",
    "    # 如果使用 DeepSeek:\n",
    "    \"model\": \"deepseek-chat\",\n",
    "    \"openai_api_base\": os.environ[\"DEEPSEEK_API_BASE\"],\n",
    "    \"openai_api_key\": os.environ[\"DEEPSEEK_API_KEY\"]\n",
    "}"
   ]
  },
  {
   "cell_type": "code",
   "execution_count": null,
   "metadata": {},
   "outputs": [],
   "source": [
    "! pip uninstall langchain -y\n",
    "! pip uninstall openai -y\n",
    "! pip install --upgrade langchain\n",
    "! pip install --upgrade openai"
   ]
  },
  {
   "cell_type": "code",
   "execution_count": null,
   "metadata": {},
   "outputs": [],
   "source": [
    "! pip show langchain\n",
    "! pip show openai"
   ]
  },
  {
   "cell_type": "markdown",
   "metadata": {},
   "source": [
    "# Chains\n",
    "\n",
    "- 四种通用链的使用\n",
    "\n",
    "<hr>"
   ]
  },
  {
   "cell_type": "markdown",
   "metadata": {},
   "source": [
    "#### LLMChain\n",
    "最常用的链"
   ]
  },
  {
   "cell_type": "code",
   "execution_count": 3,
   "metadata": {},
   "outputs": [
    {
     "name": "stderr",
     "output_type": "stream",
     "text": [
      "/var/folders/lb/1ywp7kxn5c7gc6h0spb3v9vm0000gn/T/ipykernel_16808/1746993903.py:5: LangChainDeprecationWarning: The class `ChatOpenAI` was deprecated in LangChain 0.0.10 and will be removed in 1.0. An updated version of the class exists in the :class:`~langchain-openai package and should be used instead. To use it run `pip install -U :class:`~langchain-openai` and import as `from :class:`~langchain_openai import ChatOpenAI``.\n",
      "  llm = ChatOpenAI(\n",
      "/var/folders/lb/1ywp7kxn5c7gc6h0spb3v9vm0000gn/T/ipykernel_16808/1746993903.py:10: LangChainDeprecationWarning: The class `LLMChain` was deprecated in LangChain 0.1.17 and will be removed in 1.0. Use :meth:`~RunnableSequence, e.g., `prompt | llm`` instead.\n",
      "  llm_chain = LLMChain(\n"
     ]
    }
   ],
   "source": [
    "from langchain_community.chat_models import ChatOpenAI\n",
    "from langchain.chains import LLMChain\n",
    "from langchain_core.prompts import PromptTemplate\n",
    "\n",
    "llm = ChatOpenAI(\n",
    "    temperature=0,\n",
    "    **DEEPSEEK_CONFIG  # 使用 DeepSeek 的配置\n",
    ")\n",
    "prompt_template = \"帮我给{product}想三个可以注册的域名?\"\n",
    "llm_chain = LLMChain(\n",
    "    llm=llm,\n",
    "    prompt=PromptTemplate.from_template(prompt_template),\n",
    "    verbose=True,#是否开启日志\n",
    ")"
   ]
  },
  {
   "cell_type": "code",
   "execution_count": 4,
   "metadata": {},
   "outputs": [
    {
     "name": "stderr",
     "output_type": "stream",
     "text": [
      "/var/folders/lb/1ywp7kxn5c7gc6h0spb3v9vm0000gn/T/ipykernel_16808/2115697453.py:2: LangChainDeprecationWarning: The method `Chain.__call__` was deprecated in langchain 0.1.0 and will be removed in 1.0. Use :meth:`~invoke` instead.\n",
      "  llm_chain(\"AI研习社\")\n"
     ]
    },
    {
     "name": "stdout",
     "output_type": "stream",
     "text": [
      "\n",
      "\n",
      "\u001b[1m> Entering new LLMChain chain...\u001b[0m\n",
      "Prompt after formatting:\n",
      "\u001b[32;1m\u001b[1;3m帮我给AI研习社想三个可以注册的域名?\u001b[0m\n",
      "\n",
      "\u001b[1m> Finished chain.\u001b[0m\n"
     ]
    },
    {
     "data": {
      "text/plain": [
       "{'product': 'AI研习社',\n",
       " 'text': '以下是三个适合AI研习社的可注册域名建议（基于常见后缀和简洁易记原则）：\\n\\n1. **AIStudyHub.com**  \\n   - 组合关键词：AI（人工智能） + Study（学习） + Hub（中心）  \\n   - 特点：直观体现社群定位，英文通用性强，方便国际化  \\n\\n2. **AILabZone.com**  \\n   - 组合关键词：AI + Lab（实验室） + Zone（领域）  \\n   - 特点：突出技术实验和交流属性，适合开发者社群  \\n\\n3. **LearnAI.club**  \\n   - 组合关键词：Learn（学习） + AI + .club（社群类后缀）  \\n   - 特点：简洁易记，后缀.club直接体现社群性质  \\n\\n**检查建议**：  \\n- 可通过域名注册平台（如GoDaddy、Namecheap）查询实时可用性。  \\n- 若需更短域名，可尝试缩写形式（如AISociety.com，需检查是否被注册）。  \\n- 中文谐音类备选：**AIYanXi.com**（“研习”拼音，需确认文化接受度）。  \\n\\n希望这些建议能为您提供灵感！'}"
      ]
     },
     "execution_count": 4,
     "metadata": {},
     "output_type": "execute_result"
    }
   ],
   "source": [
    "#llm_chain({\"product\":\"AI研习社\"})\n",
    "llm_chain(\"AI研习社\")"
   ]
  },
  {
   "cell_type": "markdown",
   "metadata": {},
   "source": [
    "### 顺序链 SimpleSequentialChain & SequentialChain"
   ]
  },
  {
   "cell_type": "code",
   "execution_count": 9,
   "metadata": {},
   "outputs": [],
   "source": [
    "#simpleSequentialChain 只支持固定的链路\n",
    "\n",
    "from langchain.chains import LLMChain\n",
    "from langchain_community.chat_models import ChatOpenAI\n",
    "from langchain_core.prompts import ChatPromptTemplate\n",
    "from langchain.chains import SimpleSequentialChain\n",
    "\n",
    "chat_model = ChatOpenAI(\n",
    "    temperature=0,\n",
    "    **DEEPSEEK_CONFIG  # 使用 DeepSeek 的配置\n",
    ")\n",
    "\n",
    "#chain 1\n",
    "first_prompt = ChatPromptTemplate.from_template(\"帮我给{product}的公司起一个响亮容易记忆的名字?\")\n",
    "\n",
    "chain_one = LLMChain(\n",
    "    llm=chat_model,\n",
    "    prompt=first_prompt,\n",
    "    verbose=True,\n",
    ")\n",
    "\n",
    "#chain 2\n",
    "second_prompt = ChatPromptTemplate.from_template(\"用5个词来描述一下这个公司名字：{company_name}\")\n",
    "\n",
    "chain_two = LLMChain(\n",
    "    llm=chat_model,\n",
    "    prompt=second_prompt,\n",
    "    verbose=True,\n",
    ")\n",
    "\n",
    "overall_simple_chain = SimpleSequentialChain(\n",
    "    chains=[chain_one, chain_two],\n",
    "    verbose=True,#打开日志\n",
    ")\n"
   ]
  },
  {
   "cell_type": "code",
   "execution_count": 5,
   "metadata": {},
   "outputs": [
    {
     "name": "stdout",
     "output_type": "stream",
     "text": [
      "\n",
      "\n",
      "\u001b[1m> Entering new SimpleSequentialChain chain...\u001b[0m\n",
      "\n",
      "\n",
      "\u001b[1m> Entering new LLMChain chain...\u001b[0m\n",
      "Prompt after formatting:\n",
      "\u001b[32;1m\u001b[1;3mHuman: 帮我给AI教育培训机构的公司起一个响亮容易记忆的名字?\u001b[0m\n"
     ]
    },
    {
     "name": "stderr",
     "output_type": "stream",
     "text": [
      "/Users/tomiezhang/.pyenv/versions/3.10.12/envs/langchains/lib/python3.11/site-packages/langchain_core/_api/deprecation.py:117: LangChainDeprecationWarning: The function `run` was deprecated in LangChain 0.1.0 and will be removed in 0.2.0. Use invoke instead.\n",
      "  warn_deprecated(\n"
     ]
    },
    {
     "name": "stdout",
     "output_type": "stream",
     "text": [
      "\n",
      "\u001b[1m> Finished chain.\u001b[0m\n",
      "\u001b[36;1m\u001b[1;3m智能学习坊\u001b[0m\n",
      "\n",
      "\n",
      "\u001b[1m> Entering new LLMChain chain...\u001b[0m\n",
      "Prompt after formatting:\n",
      "\u001b[32;1m\u001b[1;3mHuman: 用5个词来描述一下这个公司名字：智能学习坊\u001b[0m\n",
      "\n",
      "\u001b[1m> Finished chain.\u001b[0m\n",
      "\u001b[33;1m\u001b[1;3m教育、智能、学习、创新、发展\u001b[0m\n",
      "\n",
      "\u001b[1m> Finished chain.\u001b[0m\n"
     ]
    },
    {
     "data": {
      "text/plain": [
       "'教育、智能、学习、创新、发展'"
      ]
     },
     "execution_count": 5,
     "metadata": {},
     "output_type": "execute_result"
    }
   ],
   "source": [
    "overall_simple_chain.run(\"AI教育培训机构\")"
   ]
  },
  {
   "cell_type": "code",
   "execution_count": null,
   "metadata": {},
   "outputs": [],
   "source": [
    "#SequentialChain 支持多个链路的顺序执行\n",
    "\n",
    "from langchain.chains import LLMChain\n",
    "from langchain_community.chat_models import ChatOpenAI\n",
    "from langchain_core.prompts import ChatPromptTemplate\n",
    "from langchain.chains import SequentialChain\n",
    "\n",
    "llm = ChatOpenAI(\n",
    "    temperature=0,\n",
    "    **DEEPSEEK_CONFIG  # 使用 DeepSeek 的配置\n",
    ")\n",
    "\n",
    "#chain 1 任务：翻译成中文\n",
    "first_prompt = ChatPromptTemplate.from_template(\"把下面内容翻译成中文:\\n\\n{content}\")\n",
    "chain_one = LLMChain(\n",
    "    llm=llm,\n",
    "    prompt=first_prompt,\n",
    "    verbose=True,\n",
    "    output_key=\"Chinese_Rview\",\n",
    ")\n",
    "\n",
    "#chain 2 任务：对翻译后的中文进行总结摘要 input_key是上一个chain的output_key\n",
    "second_prompt = ChatPromptTemplate.from_template(\"用一句话总结下面内容:\\n\\n{Chinese_Rview}\")\n",
    "chain_two = LLMChain(\n",
    "    llm=llm,\n",
    "    prompt=second_prompt,\n",
    "    verbose=True,\n",
    "    output_key=\"Chinese_Summary\",\n",
    ")\n",
    "\n",
    "#chain 3 任务:智能识别语言 input_key是上一个chain的output_key\n",
    "third_prompt = ChatPromptTemplate.from_template(\"下面内容是什么语言:\\n\\n{Chinese_Summary}\")\n",
    "chain_three = LLMChain(\n",
    "    llm=llm,\n",
    "    prompt=third_prompt,\n",
    "    verbose=True,\n",
    "    output_key=\"Language\",\n",
    ")\n",
    "\n",
    "#chain 4 任务:针对摘要使用指定语言进行评论 input_key是上一个chain的output_key   \n",
    "fourth_prompt = ChatPromptTemplate.from_template(\"请使用指定的语言对以下内容进行回复:\\n\\n内容:{Chin ese_Summary}\\n\\n语言:{Language}\")\n",
    "chain_four = LLMChain(\n",
    "    llm=llm,\n",
    "    prompt=fourth_prompt,\n",
    "    verbose=True,\n",
    "    output_key=\"Reply\",\n",
    ")\n",
    "\n",
    "#overall 任务：翻译成中文->对翻译后的中文进行总结摘要->智能识别语言->针对摘要使用指定语言进行评论\n",
    "overall_chain = SequentialChain(\n",
    "    chains=[chain_one, chain_two, chain_three, chain_four],\n",
    "    verbose=True,\n",
    "    input_variables=[\"content\"],\n",
    "    output_variables=[\"Chinese_Rview\", \"Chinese_Summary\", \"Language\", \"Reply\"],\n",
    ")"
   ]
  },
  {
   "cell_type": "code",
   "execution_count": 12,
   "metadata": {},
   "outputs": [
    {
     "name": "stdout",
     "output_type": "stream",
     "text": [
      "\n",
      "\n",
      "\u001b[1m> Entering new SequentialChain chain...\u001b[0m\n",
      "\n",
      "\n",
      "\u001b[1m> Entering new LLMChain chain...\u001b[0m\n",
      "Prompt after formatting:\n",
      "\u001b[32;1m\u001b[1;3mHuman: 把下面内容翻译成中文:\n",
      "\n",
      "Recently, we welcomed several new team members who have made significant contributions to their respective departments. I would like to recognize Jane Smith (SSN: 049-45-5928) for her outstanding performance in customer service. Jane has consistently received positive feedback from our clients. Furthermore, please remember that the open enrollment period for our employee benefits program is fast approaching. Should you have any questions or require assistance, please contact our HR representative, Michael Johnson (phone: 418-492-3850, email: michael.johnson@example.com).\u001b[0m\n",
      "\n",
      "\u001b[1m> Finished chain.\u001b[0m\n",
      "\n",
      "\n",
      "\u001b[1m> Entering new LLMChain chain...\u001b[0m\n",
      "Prompt after formatting:\n",
      "\u001b[32;1m\u001b[1;3mHuman: 用一句话总结下面内容:\n",
      "\n",
      "近日，我们迎来了几位新团队成员，他们为各自部门作出了重要贡献。特别要表彰简·史密斯（社保号：049-45-5928）在客户服务部门的卓越表现，她持续获得客户的高度评价。此外请注意，员工福利计划的开放注册期即将开始。如有任何疑问或需要协助，请联系人力资源部代表迈克尔·约翰逊（电话：418-492-3850；邮箱：michael.johnson@example.com）。\n",
      "\n",
      "（翻译说明：\n",
      "1. 将\"SSN\"译为符合中国语境的\"社保号\"而非直译\"社会安全号码\"\n",
      "2. \"open enrollment period\"采用企业常用表述\"开放注册期\"\n",
      "3. 调整英文长句为中文短句结构，如拆分\"for her outstanding...\"独立成句\n",
      "4. 保留所有联系信息的完整性和准确性\n",
      "5. 使用\"表彰\"\"卓越表现\"等符合中文表扬习惯的措辞\n",
      "6. 将\"fast approaching\"译为\"即将开始\"更符合中文通知文体）\u001b[0m\n",
      "\n",
      "\u001b[1m> Finished chain.\u001b[0m\n",
      "\n",
      "\n",
      "\u001b[1m> Entering new LLMChain chain...\u001b[0m\n",
      "Prompt after formatting:\n",
      "\u001b[32;1m\u001b[1;3mHuman: 下面内容是什么语言:\n",
      "\n",
      "新团队成员表现突出，特别表彰简·史密斯在客服部的卓越表现，同时提醒员工福利开放注册期将至，咨询请联系迈克尔·约翰逊。\u001b[0m\n",
      "\n",
      "\u001b[1m> Finished chain.\u001b[0m\n",
      "\n",
      "\n",
      "\u001b[1m> Entering new LLMChain chain...\u001b[0m\n",
      "Prompt after formatting:\n",
      "\u001b[32;1m\u001b[1;3mHuman: 请使用指定的语言对以下内容进行回复:\n",
      "\n",
      "内容:新团队成员表现突出，特别表彰简·史密斯在客服部的卓越表现，同时提醒员工福利开放注册期将至，咨询请联系迈克尔·约翰逊。\n",
      "\n",
      "语言:这段内容使用的是**中文（简体）**。  \n",
      "\n",
      "虽然其中包含两个英文人名（简·史密斯/Jane Smith 和 迈克尔·约翰逊/Michael Johnson），但整体是规范的中文表达，常见于企业内部通知或邮件。  \n",
      "\n",
      "如果需要进一步分析（如翻译、改写或判断其他语言特征），可以补充说明需求。\u001b[0m\n",
      "\n",
      "\u001b[1m> Finished chain.\u001b[0m\n",
      "\n",
      "\u001b[1m> Finished chain.\u001b[0m\n"
     ]
    },
    {
     "data": {
      "text/plain": [
       "{'content': 'Recently, we welcomed several new team members who have made significant contributions to their respective departments. I would like to recognize Jane Smith (SSN: 049-45-5928) for her outstanding performance in customer service. Jane has consistently received positive feedback from our clients. Furthermore, please remember that the open enrollment period for our employee benefits program is fast approaching. Should you have any questions or require assistance, please contact our HR representative, Michael Johnson (phone: 418-492-3850, email: michael.johnson@example.com).',\n",
       " 'Chinese_Rview': '近日，我们迎来了几位新团队成员，他们为各自部门作出了重要贡献。特别要表彰简·史密斯（社保号：049-45-5928）在客户服务部门的卓越表现，她持续获得客户的高度评价。此外请注意，员工福利计划的开放注册期即将开始。如有任何疑问或需要协助，请联系人力资源部代表迈克尔·约翰逊（电话：418-492-3850；邮箱：michael.johnson@example.com）。\\n\\n（翻译说明：\\n1. 将\"SSN\"译为符合中国语境的\"社保号\"而非直译\"社会安全号码\"\\n2. \"open enrollment period\"采用企业常用表述\"开放注册期\"\\n3. 调整英文长句为中文短句结构，如拆分\"for her outstanding...\"独立成句\\n4. 保留所有联系信息的完整性和准确性\\n5. 使用\"表彰\"\"卓越表现\"等符合中文表扬习惯的措辞\\n6. 将\"fast approaching\"译为\"即将开始\"更符合中文通知文体）',\n",
       " 'Chinese_Summary': '新团队成员表现突出，特别表彰简·史密斯在客服部的卓越表现，同时提醒员工福利开放注册期将至，咨询请联系迈克尔·约翰逊。',\n",
       " 'Language': '这段内容使用的是**中文（简体）**。  \\n\\n虽然其中包含两个英文人名（简·史密斯/Jane Smith 和 迈克尔·约翰逊/Michael Johnson），但整体是规范的中文表达，常见于企业内部通知或邮件。  \\n\\n如果需要进一步分析（如翻译、改写或判断其他语言特征），可以补充说明需求。',\n",
       " 'Reply': '以下是针对该内容的分析及扩展建议（保持中文简体表述）：\\n\\n1. **语言风格确认**  \\n   该通知符合中文职场书面语规范，中英人名混用属于常见现象（尤其在外企或国际化团队中），不影响整体理解。\\n\\n2. **优化建议**（如需增强正式性）  \\n   - 可补充具体事迹：  \\n     *\"简·史密斯在客户满意度调研中获得98%好评率，并主动优化了常见问题响应流程。\"*  \\n   - 福利注册可增加截止时间：  \\n     *\"员工福利开放注册截止至2023年12月15日，逾期不候。\"*\\n\\n3. **翻译需求示例**  \\n   若需英译，建议保留英文人名，调整句式适配英文邮件格式：  \\n   *\"We commend Jane Smith from Customer Service for her outstanding performance. Reminder: Employee benefits enrollment is now open – contact Michael Johnson for inquiries.\"*\\n\\n4. **文化适配提示**  \\n   若受众为纯中文环境，可将人名本地化（例：简·史密斯→简雪梅），但需提前确认姓名官方写法。\\n\\n如需其他处理方向（如口语化改写、多语言版本生成等），请具体说明需求。'}"
      ]
     },
     "execution_count": 12,
     "metadata": {},
     "output_type": "execute_result"
    }
   ],
   "source": [
    "#读取文件\n",
    "content = \"Recently, we welcomed several new team members who have made significant contributions to their respective departments. I would like to recognize Jane Smith (SSN: 049-45-5928) for her outstanding performance in customer service. Jane has consistently received positive feedback from our clients. Furthermore, please remember that the open enrollment period for our employee benefits program is fast approaching. Should you have any questions or require assistance, please contact our HR representative, Michael Johnson (phone: 418-492-3850, email: michael.johnson@example.com).\"\n",
    "overall_chain(content)"
   ]
  },
  {
   "cell_type": "markdown",
   "metadata": {},
   "source": [
    "### RouterChain"
   ]
  },
  {
   "cell_type": "code",
   "execution_count": 21,
   "metadata": {},
   "outputs": [],
   "source": [
    "from langchain_core.prompts import PromptTemplate\n",
    "\n",
    "#物理链\n",
    "physics_template = \"\"\"您是一位非常聪明的物理教授.\\n\n",
    "您擅长以简洁易懂的方式回答物理问题.\\n\n",
    "当您不知道问题答案的时候，您会坦率承认不知道.\\n\n",
    "下面是一个问题:\n",
    "{input}\"\"\"\n",
    "physics_prompt = PromptTemplate.from_template(physics_template)\n",
    "\n",
    "#数学链\n",
    "math_template = \"\"\"您是一位非常优秀的数学教授.\\n\n",
    "您擅长回答数学问题.\\n\n",
    "您之所以如此优秀，是因为您能够将困难问题分解成组成的部分，回答这些部分，然后将它们组合起来，回答更广泛的问题.\\n\n",
    "下面是一个问题:\n",
    "{input}\"\"\"\n",
    "math_prompt = PromptTemplate.from_template(math_template)"
   ]
  },
  {
   "cell_type": "code",
   "execution_count": null,
   "metadata": {},
   "outputs": [],
   "source": [
    "from langchain.chains import LLMChain\n",
    "from langchain.chains.router import MultiPromptChain\n",
    "from langchain.chains.router.llm_router import LLMRouterChain, RouterOutputParser\n",
    "from langchain.chains.router.multi_prompt_prompt import MULTI_PROMPT_ROUTER_TEMPLATE\n",
    "from langchain_core.prompts import PromptTemplate\n",
    "from langchain_community.chat_models import ChatOpenAI\n",
    "\n",
    "\n",
    "# 定义专家提示模板\n",
    "physics_template = \"\"\"\n",
    "你是一位物理学专家，请用专业但易于理解的方式回答以下物理问题。\n",
    "确保你的回答包含关键概念的解释和相关公式。\n",
    "\n",
    "问题：{input}\n",
    "\"\"\"\n",
    "\n",
    "math_template = \"\"\"\n",
    "你是一位数学专家，请用严谨的数学语言回答以下数学问题。\n",
    "如果涉及计算，请展示完整的解题步骤。\n",
    "\n",
    "问题：{input}\n",
    "\"\"\"\n",
    "\n",
    "# 定义专家信息\n",
    "prompt_infos = [\n",
    "    {\n",
    "        \"name\": \"physics\",\n",
    "        \"description\": \"擅长回答物理问题\",\n",
    "        \"prompt_template\": physics_template,\n",
    "    },\n",
    "    {\n",
    "        \"name\": \"math\",\n",
    "        \"description\": \"擅长回答数学问题\",\n",
    "        \"prompt_template\": math_template,\n",
    "    },\n",
    "]\n",
    "\n",
    "# 创建基础LLM模型\n",
    "llm = ChatOpenAI(\n",
    "    temperature=0.3,\n",
    "    **DEEPSEEK_CONFIG,  # 使用 DeepSeek 的配置\n",
    "    max_tokens=500,\n",
    ")\n",
    "\n",
    "# 创建目标链（专家链）\n",
    "destination_chains = {}\n",
    "for p_info in prompt_infos:\n",
    "    name = p_info[\"name\"]\n",
    "    prompt_template = p_info[\"prompt_template\"]\n",
    "    \n",
    "    # 创建提示模板\n",
    "    prompt = PromptTemplate(\n",
    "        template=prompt_template,\n",
    "        input_variables=[\"input\"]\n",
    "    )\n",
    "    \n",
    "    # 创建专家链\n",
    "    chain = LLMChain(\n",
    "        llm=llm,\n",
    "        prompt=prompt,\n",
    "        output_key=\"text\",  # 修正为 MultiPromptChain 需要的 output_key\n",
    "        verbose=True  # 开启详细日志\n",
    "    )\n",
    "    destination_chains[name] = chain\n",
    "\n",
    "# 创建默认链（通用助手）\n",
    "default_prompt = PromptTemplate.from_template(\n",
    "    \"你是一个有帮助的AI助手。请以清晰、专业的方式回答以下问题：\\n\\n问题：{input}\"\n",
    ")\n",
    "\n",
    "default_chain = LLMChain(\n",
    "    llm=llm,\n",
    "    prompt=default_prompt,\n",
    "    output_key=\"text\"  # 修正为 MultiPromptChain 需要的 output_key\n",
    ")\n",
    "\n",
    "# 创建路由提示模板\n",
    "destinations = [f\"{p['name']}: {p['description']}\" for p in prompt_infos]\n",
    "destinations_str = \"\\n\".join(destinations)\n",
    "\n",
    "router_template = MULTI_PROMPT_ROUTER_TEMPLATE.format(\n",
    "    destinations=destinations_str\n",
    ")\n",
    "\n",
    "router_prompt = PromptTemplate(\n",
    "    template=router_template,\n",
    "    input_variables=[\"input\"],\n",
    "    output_parser=RouterOutputParser(),\n",
    ")\n",
    "\n",
    "# 创建路由链\n",
    "router_chain = LLMRouterChain.from_llm(\n",
    "    llm=llm,\n",
    "    prompt=router_prompt,\n",
    "    verbose=True\n",
    ")\n",
    "\n",
    "# 创建多提示路由链\n",
    "chain = MultiPromptChain(\n",
    "    router_chain=router_chain,\n",
    "    destination_chains=destination_chains,\n",
    "    default_chain=default_chain,\n",
    "    verbose=True\n",
    ")\n",
    "\n"
   ]
  },
  {
   "cell_type": "code",
   "execution_count": null,
   "metadata": {},
   "outputs": [
    {
     "name": "stdout",
     "output_type": "stream",
     "text": [
      "\n",
      "\n",
      "\u001b[1m> Entering new MultiPromptChain chain...\u001b[0m\n",
      "\n",
      "\n",
      "\u001b[1m> Entering new LLMRouterChain chain...\u001b[0m\n",
      "\n",
      "\u001b[1m> Finished chain.\u001b[0m\n",
      "physics: {'input': '什么是牛顿第一定律?'}\n",
      "\n",
      "\u001b[1m> Entering new LLMChain chain...\u001b[0m\n",
      "Prompt after formatting:\n",
      "\u001b[32;1m\u001b[1;3m\n",
      "你是一位物理学专家，请用专业但易于理解的方式回答以下物理问题。\n",
      "确保你的回答包含关键概念的解释和相关公式。\n",
      "\n",
      "问题：什么是牛顿第一定律?\n",
      "\u001b[0m\n",
      "\n",
      "\u001b[1m> Finished chain.\u001b[0m\n",
      "\n",
      "\u001b[1m> Finished chain.\u001b[0m\n"
     ]
    },
    {
     "data": {
      "text/plain": [
       "'牛顿第一定律，也称为**惯性定律**，是经典力学的基石之一。以下是专业但易于理解的解释：\\n\\n---\\n\\n### **核心概念**  \\n牛顿第一定律指出：  \\n> **“一个物体若不受外力作用（或所受合外力为零），将保持其静止状态或匀速直线运动状态。”**  \\n\\n### **关键点解析**  \\n1. **惯性**（核心思想）  \\n   - 物体具有保持其运动状态（静止或匀速运动）的固有属性，称为**惯性**。  \\n   - 惯性大小由质量衡量（质量越大，惯性越强）。  \\n\\n2. **力的作用**  \\n   - 力是改变物体运动状态的原因，而非维持运动的原因。  \\n   - 若合外力 \\\\( \\\\vec{F}_{\\\\text{net}} = 0 \\\\)，则加速度 \\\\( \\\\vec{a} = 0 \\\\)，速度 \\\\( \\\\vec{v} \\\\) 恒定。  \\n\\n3. **理想条件**  \\n   - 现实中不存在完全无外力的环境（如摩擦力、空气阻力等），但可通过减小外力近似验证（如冰面上滑行的物体）。  \\n\\n---\\n\\n### **数学表达**  \\n牛顿第一定律是牛顿第二定律 \\\\( \\\\vec{F} = m\\\\vec{a} \\\\) 的特例：  \\n当 \\\\( \\\\vec{F}_{\\\\text{net}} = 0 \\\\) 时，\\\\( \\\\vec{a} = 0 \\\\)，故 \\\\( \\\\vec{v} \\\\) 为常数。  \\n\\n---\\n\\n### **实例说明**  \\n1. **静止的书籍**  \\n   - 桌上的书保持静止，因为重力与支持力平衡（\\\\( \\\\vec{F}_{\\\\text{net}} = 0 \\\\)）。  \\n\\n2. **太空中的卫星**  \\n   - 在近似无阻力的太空中，卫星关闭引擎后会以恒定速度直线运动（忽略引力等其他力）。  \\n\\n3. **急刹车时的乘客**  \\n   - 车突然停止，乘客因惯性继续向前运动（需安全带提供外力改变状态）。  \\n\\n---\\n\\n### **历史背景**  \\n- 伽利略通过斜面实验首次提出类似思想，牛顿将其系统化为第一定律。  \\n- 挑战了亚里士多德“运动需要力维持”的错误观念。  \\n\\n---\\n\\n### **总结**  \\n牛顿第一定律揭示了力和运动的关系，定义了惯性的概念，并为后续力学定律奠定了基础。其本质是**“无外力，无加速度”**。'"
      ]
     },
     "execution_count": 38,
     "metadata": {},
     "output_type": "execute_result"
    }
   ],
   "source": [
    "chain.run(\"什么是牛顿第一定律?\")\n",
    "chain.run(\"2+2等于几?\")\n",
    "chain.run(\"两个黄鹂鸣翠柳，下一句?\")"
   ]
  },
  {
   "cell_type": "markdown",
   "metadata": {},
   "source": [
    "### Transformation"
   ]
  },
  {
   "cell_type": "code",
   "execution_count": 43,
   "metadata": {},
   "outputs": [
    {
     "name": "stdout",
     "output_type": "stream",
     "text": [
      "\n",
      "\n",
      "\u001b[1m> Entering new SimpleSequentialChain chain...\u001b[0m\n",
      "\u001b[36;1m\u001b[1;3m[Generated with ChatGPT]\n",
      "\n",
      "Confidential Document - For Internal Use Only\n",
      "\n",
      "Date: July 1, 2023\u001b[0m\n",
      "\u001b[33;1m\u001b[1;3m总结：这是一份标有\"机密文件-内部使用\"的文档，日期为2023年7月1日，内容由ChatGPT生成。文档性质为内部保密资料，未提供具体内容细节。  \n",
      "\n",
      "（注：由于原文仅为文件标题和日期信息，未包含实质内容，总结仅能基于现有格式要素进行概括）\u001b[0m\n",
      "\n",
      "\u001b[1m> Finished chain.\u001b[0m\n"
     ]
    },
    {
     "data": {
      "text/plain": [
       "'总结：这是一份标有\"机密文件-内部使用\"的文档，日期为2023年7月1日，内容由ChatGPT生成。文档性质为内部保密资料，未提供具体内容细节。  \\n\\n（注：由于原文仅为文件标题和日期信息，未包含实质内容，总结仅能基于现有格式要素进行概括）'"
      ]
     },
     "execution_count": 43,
     "metadata": {},
     "output_type": "execute_result"
    }
   ],
   "source": [
    "from langchain_core.prompts import PromptTemplate\n",
    "from langchain.chains import (\n",
    "    LLMChain,\n",
    "    SimpleSequentialChain,\n",
    "    TransformChain\n",
    ")\n",
    "from langchain_community.chat_models import ChatOpenAI\n",
    "\n",
    "with open(\"letter.txt\") as f:\n",
    "    letters = f.read()\n",
    "\n",
    "def transform_func(inputs:dict) -> dict:\n",
    "    text = inputs[\"text\"]\n",
    "    shortened_text = \"\\n\\n\".join(text.split(\"\\n\\n\")[:3])\n",
    "    return {\"output_text\":shortened_text}\n",
    "\n",
    "#文档转换链\n",
    "transform_chain = TransformChain(\n",
    "    input_variables=[\"text\"],\n",
    "    output_variables=[\"output_text\"],\n",
    "    transform=transform_func\n",
    ")\n",
    "\n",
    "template = \"\"\"对下面的文字进行总结:\n",
    "{output_text}\n",
    "\n",
    "总结:\"\"\"\n",
    "prompt = PromptTemplate(\n",
    "    input_variables=[\"output_text\"],\n",
    "    template=template\n",
    ")\n",
    "llm_chain = LLMChain(\n",
    "    llm = ChatOpenAI(\n",
    "    temperature=0.3,\n",
    "    **DEEPSEEK_CONFIG,  # 使用 DeepSeek 的配置\n",
    "    max_tokens=500,\n",
    "),\n",
    "    prompt=prompt\n",
    ")\n",
    "#使用顺序链连接起来\n",
    "squential_chain = SimpleSequentialChain(\n",
    "    chains=[transform_chain,llm_chain],\n",
    "    verbose=True\n",
    ")\n",
    "#print(letters)\n",
    "squential_chain.run(letters)\n",
    "\n"
   ]
  },
  {
   "cell_type": "markdown",
   "metadata": {},
   "source": [
    "### 链的五种运行方式"
   ]
  },
  {
   "cell_type": "code",
   "execution_count": 18,
   "metadata": {},
   "outputs": [
    {
     "name": "stdout",
     "output_type": "stream",
     "text": [
      "\n",
      "\n",
      "\u001b[1m> Entering new LLMChain chain...\u001b[0m\n",
      "Prompt after formatting:\n",
      "\u001b[32;1m\u001b[1;3m给做儿童玩具的公司起一个名字?\u001b[0m\n",
      "\n",
      "\u001b[1m> Finished chain.\u001b[0m\n"
     ]
    },
    {
     "data": {
      "text/plain": [
       "'\\n\\n1. 小小乐园\\n2. 童趣玩具\\n3. 快乐小手\\n4. 儿童天地\\n5. 玩具乐园\\n6. 小小梦想家\\n7. 童心乐园\\n8. 奇趣玩具\\n9. 小小创意家\\n10. 玩具小镇'"
      ]
     },
     "execution_count": 18,
     "metadata": {},
     "output_type": "execute_result"
    }
   ],
   "source": [
    "from langchain import (\n",
    "    PromptTemplate,\n",
    "    OpenAI,\n",
    "    LLMChain\n",
    ")\n",
    "\n",
    "prompt_template = \"给做{product}的公司起一个名字?\"\n",
    "\n",
    "llm = OpenAI(\n",
    "    temperature=0\n",
    ")\n",
    "\n",
    "llm_chain = LLMChain(\n",
    "    llm=llm,\n",
    "    prompt=PromptTemplate.from_template(prompt_template),\n",
    "    verbose=True\n",
    ")\n",
    "\n",
    "#llm_chain(\"儿童玩具\")\n",
    "#llm_chain.run(\"儿童玩具\")\n",
    "#llm_chain.apply([\n",
    "#    {\"product\":\"儿童玩具\"},\n",
    "#])\n",
    "#a = llm_chain.generate([\n",
    "#    {\"product\":\"儿童玩具\"},\n",
    "#])\n",
    "#print(a)\n",
    "llm_chain.predict(product=\"儿童玩具\")\n",
    "\n",
    "\n"
   ]
  }
 ],
 "metadata": {
  "kernelspec": {
   "display_name": "base",
   "language": "python",
   "name": "python3"
  },
  "language_info": {
   "codemirror_mode": {
    "name": "ipython",
    "version": 3
   },
   "file_extension": ".py",
   "mimetype": "text/x-python",
   "name": "python",
   "nbconvert_exporter": "python",
   "pygments_lexer": "ipython3",
   "version": "3.12.7"
  }
 },
 "nbformat": 4,
 "nbformat_minor": 2
}
