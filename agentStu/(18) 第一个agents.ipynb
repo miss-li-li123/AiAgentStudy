{
 "cells": [
  {
   "cell_type": "code",
   "execution_count": 1,
   "metadata": {},
   "outputs": [],
   "source": [
    "import os\n",
    "import os\n",
    "from dotenv import load_dotenv\n",
    "# Load environment variables from openai.env file\n",
    "load_dotenv(\"deepseek.env\")\n",
    "\n",
    "# Read the OPENAI_API_KEY from the environment\n",
    "api_key = os.getenv(\"DEEPSEEK_API_KEY\")\n",
    "api_base = os.getenv(\"DEEPSEEK_API_BASE\")\n",
    "os.environ[\"OPENAI_API_KEY\"] = api_key\n",
    "os.environ[\"OPENAI_API_BASE\"] = api_base\n",
    "# 为 DeepSeek 配置（可选）\n",
    "DEEPSEEK_CONFIG = {\n",
    "    #\"model\": \"gpt-3.5-turbo\",  # 或者使用 DeepSeek 兼容模型\n",
    "    #\"openai_api_key\": os.environ[\"OPENAI_API_KEY\"],\n",
    "    # 如果使用 DeepSeek:\n",
    "    \"model\": \"deepseek-chat\",\n",
    "    \"openai_api_base\": os.environ[\"DEEPSEEK_API_BASE\"],\n",
    "    \"openai_api_key\": os.environ[\"DEEPSEEK_API_KEY\"]\n",
    "}"
   ]
  },
  {
   "cell_type": "markdown",
   "metadata": {},
   "source": [
    "# 第一个agent\n",
    "- 会做数学题\n",
    "- 不知道答案的时候可以搜索\n",
    "<hr>"
   ]
  },
  {
   "cell_type": "code",
   "execution_count": 5,
   "metadata": {},
   "outputs": [],
   "source": [
    "#定义llm\n",
    "from langchain_community.chat_models import ChatOpenAI\n",
    "\n",
    "llm = ChatOpenAI(\n",
    "    temperature=0,\n",
    "    **DEEPSEEK_CONFIG\n",
    ")"
   ]
  },
  {
   "cell_type": "markdown",
   "metadata": {},
   "source": [
    "搭建工具\n",
    "- serpai是一个聚合搜索引擎，需要安装谷歌搜索包以及申请账号 https://serpapi.com/manage-api-key\n",
    "- llm-math是一个封装好的数学计算链"
   ]
  },
  {
   "cell_type": "code",
   "execution_count": 3,
   "metadata": {},
   "outputs": [
    {
     "name": "stdout",
     "output_type": "stream",
     "text": [
      "Collecting google-search-results\n",
      "  Downloading google_search_results-2.4.2.tar.gz (18 kB)\n",
      "  Preparing metadata (setup.py) ... \u001b[?25ldone\n",
      "\u001b[?25hRequirement already satisfied: requests in /opt/miniconda3/lib/python3.12/site-packages (from google-search-results) (2.31.0)\n",
      "Requirement already satisfied: charset-normalizer<4,>=2 in /opt/miniconda3/lib/python3.12/site-packages (from requests->google-search-results) (3.3.2)\n",
      "Requirement already satisfied: idna<4,>=2.5 in /opt/miniconda3/lib/python3.12/site-packages (from requests->google-search-results) (3.7)\n",
      "Requirement already satisfied: urllib3<3,>=1.21.1 in /opt/miniconda3/lib/python3.12/site-packages (from requests->google-search-results) (2.2.3)\n",
      "Requirement already satisfied: certifi>=2017.4.17 in /opt/miniconda3/lib/python3.12/site-packages (from requests->google-search-results) (2024.8.30)\n",
      "Building wheels for collected packages: google-search-results\n",
      "  Building wheel for google-search-results (setup.py) ... \u001b[?25ldone\n",
      "\u001b[?25h  Created wheel for google-search-results: filename=google_search_results-2.4.2-py3-none-any.whl size=32009 sha256=0000c8d5dd498846c6b0ec59c2255eda9c39bcc9dcf1b703ecd2f870a3b6e564\n",
      "  Stored in directory: /Users/josh/Library/Caches/pip/wheels/0c/47/f5/89b7e770ab2996baf8c910e7353d6391e373075a0ac213519e\n",
      "Successfully built google-search-results\n",
      "Installing collected packages: google-search-results\n",
      "Successfully installed google-search-results-2.4.2\n"
     ]
    }
   ],
   "source": [
    "! pip install google-search-results"
   ]
  },
  {
   "cell_type": "code",
   "execution_count": 4,
   "metadata": {},
   "outputs": [],
   "source": [
    "import os \n",
    "os.environ[\"SERPAPI_API_KEY\"] = \"54593553f44d1d9c8c2e610beaf57d8de0fe6c25fce97628e591ef64f5ddad04\""
   ]
  },
  {
   "cell_type": "code",
   "execution_count": 6,
   "metadata": {},
   "outputs": [],
   "source": [
    "from langchain.agents import load_tools\n",
    "\n",
    "tools = load_tools([\"serpapi\",\"llm-math\"], llm=llm)"
   ]
  },
  {
   "cell_type": "markdown",
   "metadata": {},
   "source": [
    "定义agent,使用小样本增强生成类型"
   ]
  },
  {
   "cell_type": "code",
   "execution_count": null,
   "metadata": {},
   "outputs": [
    {
     "name": "stderr",
     "output_type": "stream",
     "text": [
      "/var/folders/lb/1ywp7kxn5c7gc6h0spb3v9vm0000gn/T/ipykernel_62443/2935895582.py:4: LangChainDeprecationWarning: LangChain agents will continue to be supported, but it is recommended for new use cases to be built with LangGraph. LangGraph offers a more flexible and full-featured framework for building agents, including support for tool-calling, persistence of state, and human-in-the-loop workflows. For details, refer to the `LangGraph documentation <https://langchain-ai.github.io/langgraph/>`_ as well as guides for `Migrating from AgentExecutor <https://python.langchain.com/docs/how_to/migrate_agent/>`_ and LangGraph's `Pre-built ReAct agent <https://langchain-ai.github.io/langgraph/how-tos/create-react-agent/>`_.\n",
      "  agent = initialize_agent(\n"
     ]
    }
   ],
   "source": [
    "from langchain.agents import initialize_agent\n",
    "from langchain.agents import AgentType\n",
    "\n",
    "agent = initialize_agent(\n",
    "    tools,\n",
    "    llm,\n",
    "    agent=AgentType.ZERO_SHOT_REACT_DESCRIPTION,#这里有不同的类型 “零样本推理+工具调用”模式\n",
    "    verbose=True,#是否打印日志\n",
    ")"
   ]
  },
  {
   "cell_type": "code",
   "execution_count": 8,
   "metadata": {},
   "outputs": [
    {
     "name": "stderr",
     "output_type": "stream",
     "text": [
      "/var/folders/lb/1ywp7kxn5c7gc6h0spb3v9vm0000gn/T/ipykernel_62443/2767981220.py:1: LangChainDeprecationWarning: The method `Chain.run` was deprecated in langchain 0.1.0 and will be removed in 1.0. Use :meth:`~invoke` instead.\n",
      "  agent.run(\"请问现任的美国总统是谁？他的年龄的平方是多少?\")\n"
     ]
    },
    {
     "name": "stdout",
     "output_type": "stream",
     "text": [
      "\n",
      "\n",
      "\u001b[1m> Entering new AgentExecutor chain...\u001b[0m\n",
      "\u001b[32;1m\u001b[1;3mThought: 我需要先找到现任美国总统是谁，然后再计算他的年龄的平方。\n",
      "\n",
      "Action: Search  \n",
      "Action Input: \"现任美国总统是谁\"  \n",
      "\u001b[0m\n",
      "Observation: \u001b[36;1m\u001b[1;3m['Donald Trump (唐纳德·特朗普) type: 45th and 47th U.S. President.', 'Donald Trump (唐纳德·特朗普) kgmid: /m/0cqt90.', 'Donald Trump (唐纳德·特朗普) born: June 14, 1946 (age 79 years), Jamaica Hospital Medical Center, New York, NY.', 'Donald Trump (唐纳德·特朗普) previous_campaigns: 2024 United States presidential election, United States Presidential election, 2020.', 'Donald Trump (唐纳德·特朗普) children: Barron Trump, Ivanka Trump, Tiffany Trump, Donald Trump Jr., Eric Trump.', 'Donald Trump (唐纳德·特朗普) parents: Fred Trump, Mary Anne MacLeod Trump.', 'Donald Trump (唐纳德·特朗普) siblings: Robert Trump, Elizabeth Trump Grau, Maryanne Trump Barry, Fred Trump, Jr..', 'Donald Trump (唐纳德·特朗普) spouse: Melania Trump (m. 2005), Marla Maples (m. 1993–1999), Ivana Trump (m. 1977–1990).', '美利坚合众国总统（英语：President of the United States，缩写为POTUS；中文简称美国总统）是美国的国家元首、政府首脑和三军统帅。根据1787年通过的《美国宪法》而设立， ...', '美國大選結果在今（6）日揭曉，總統府發言人郭雅慧表示，賴清德總統代表政府與人民，祝賀美國總統選舉圓滿成功，並恭喜美國共和黨總統候選人川普（Donald J. Trump）、副總統 ...', '美国总统（President of the United States of America）是美国国家元首、政府首脑兼武装部队总司令。总统通过间接选举产生，现任总统为共和党籍的唐纳德·特朗普。', '美国前总统唐纳德·特朗普（Donald Trump）击败现任副总统卡玛拉·哈里斯（Kamala Harris），赢得了一个新的为期四年的总统任期。', '依据选举程序，美国国会参众两院当天举行联席会议，由美国现任副总统、2024年美国总统选举民主党候选人哈里斯主持。哈里斯依次递交各州及华盛顿特区的选举人 ...', '唐纳德·特朗普（Donald Trump），1946年6月14日出生于美国纽约，祖籍德国巴伐利亚自由州，毕业于宾夕法尼亚大学沃顿商学院，德裔美国共和党籍政治家、企业家、房地产商人、 ...', '美国当选总统唐纳德·特朗普有望赢得普选，临时计票显示他领先民主党对手卡玛拉·哈里斯近500 万张选票。', '共和党总统候选人特朗普确定当选新任美国总统，民主党的卡玛拉·哈里斯表示将协助他顺利交接。中国国家主席习近平已向特朗普致贺电，并主张中美关系“合则 ...']\u001b[0m\n",
      "Thought:\u001b[32;1m\u001b[1;3m根据搜索结果，现任美国总统是唐纳德·特朗普（Donald Trump），出生于1946年6月14日，现年79岁。接下来需要计算他的年龄的平方。\n",
      "\n",
      "Action: Calculator  \n",
      "Action Input: 79 ** 2  \n",
      "\u001b[0m\n",
      "Observation: \u001b[33;1m\u001b[1;3mAnswer: 6241\u001b[0m\n",
      "Thought:\u001b[32;1m\u001b[1;3mThought: 我已经找到了现任美国总统是唐纳德·特朗普，并计算出了他年龄的平方。\n",
      "\n",
      "Final Answer: 现任美国总统是唐纳德·特朗普（Donald Trump），他的年龄的平方是6241。\u001b[0m\n",
      "\n",
      "\u001b[1m> Finished chain.\u001b[0m\n"
     ]
    },
    {
     "data": {
      "text/plain": [
       "'现任美国总统是唐纳德·特朗普（Donald Trump），他的年龄的平方是6241。'"
      ]
     },
     "execution_count": 8,
     "metadata": {},
     "output_type": "execute_result"
    }
   ],
   "source": [
    "agent.run(\"请问现任的美国总统是谁？他的年龄的平方是多少?\")"
   ]
  }
 ],
 "metadata": {
  "kernelspec": {
   "display_name": "base",
   "language": "python",
   "name": "python3"
  },
  "language_info": {
   "codemirror_mode": {
    "name": "ipython",
    "version": 3
   },
   "file_extension": ".py",
   "mimetype": "text/x-python",
   "name": "python",
   "nbconvert_exporter": "python",
   "pygments_lexer": "ipython3",
   "version": "3.12.7"
  }
 },
 "nbformat": 4,
 "nbformat_minor": 2
}
